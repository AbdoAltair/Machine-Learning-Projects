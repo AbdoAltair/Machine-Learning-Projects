{
  "cells": [
    {
      "cell_type": "code",
      "execution_count": 1,
      "id": "80f6123c",
      "metadata": {
        "id": "80f6123c"
      },
      "outputs": [],
      "source": [
        "import struct\n",
        "import numpy as np\n",
        "from sklearn.metrics import accuracy_score\n",
        "from math import exp\n",
        "from sklearn.model_selection import train_test_split as split_\n",
        "from random import seed\n",
        "from sklearn import  metrics\n",
        "import itertools\n",
        "import tensorflow as tf\n",
        "from tensorflow.keras import datasets, layers, models, optimizers\n",
        "import matplotlib.pyplot as plt\n",
        "import keras \n",
        "from tensorflow.keras.models import Sequential,Model\n",
        "from tensorflow.keras.layers import Input\n",
        "from keras.layers import Dense, Dropout, Flatten\n",
        "from keras.layers import Conv2D, MaxPooling2D\n",
        "from keras.layers import ELU, PReLU, LeakyReLU\n"
      ]
    },
    {
      "cell_type": "code",
      "source": [
        "\n",
        "(x_train, y_train), (x_test, y_test) = keras.datasets.cifar10.load_data()\n"
      ],
      "metadata": {
        "id": "i6K-mOdXjp1Z",
        "colab": {
          "base_uri": "https://localhost:8080/"
        },
        "outputId": "5cc40607-598f-4f6f-84b0-e785882e974d"
      },
      "id": "i6K-mOdXjp1Z",
      "execution_count": 2,
      "outputs": [
        {
          "output_type": "stream",
          "name": "stdout",
          "text": [
            "Downloading data from https://www.cs.toronto.edu/~kriz/cifar-10-python.tar.gz\n",
            "170498071/170498071 [==============================] - 4s 0us/step\n"
          ]
        }
      ]
    },
    {
      "cell_type": "code",
      "source": [
        "\n",
        "x_train.shape"
      ],
      "metadata": {
        "colab": {
          "base_uri": "https://localhost:8080/"
        },
        "id": "lCo9_Ha254ZW",
        "outputId": "92d46f69-6e42-4a46-a879-ea3c20a0f87e"
      },
      "id": "lCo9_Ha254ZW",
      "execution_count": 3,
      "outputs": [
        {
          "output_type": "execute_result",
          "data": {
            "text/plain": [
              "(50000, 32, 32, 3)"
            ]
          },
          "metadata": {},
          "execution_count": 3
        }
      ]
    },
    {
      "cell_type": "code",
      "source": [
        "y_test.shape"
      ],
      "metadata": {
        "colab": {
          "base_uri": "https://localhost:8080/"
        },
        "id": "q7hFpqtxmIuN",
        "outputId": "71003c5e-ad15-4563-eee7-c9dd01151594"
      },
      "id": "q7hFpqtxmIuN",
      "execution_count": 4,
      "outputs": [
        {
          "output_type": "execute_result",
          "data": {
            "text/plain": [
              "(10000, 1)"
            ]
          },
          "metadata": {},
          "execution_count": 4
        }
      ]
    },
    {
      "cell_type": "code",
      "source": [
        "x_train = np.delete(x_train , np.where(y_train > 1) , axis = 0)\n",
        "y_train = np.delete(y_train , np.where(y_train > 1) , axis = 0)"
      ],
      "metadata": {
        "id": "HVWM2WNQ0DPH"
      },
      "id": "HVWM2WNQ0DPH",
      "execution_count": 5,
      "outputs": []
    },
    {
      "cell_type": "code",
      "source": [
        "x_test = np.delete(x_test , np.where(y_test > 1) , axis = 0)\n",
        "y_test = np.delete(y_test , np.where(y_test > 1) , axis = 0)"
      ],
      "metadata": {
        "id": "k4IpPFeX019w"
      },
      "id": "k4IpPFeX019w",
      "execution_count": 6,
      "outputs": []
    },
    {
      "cell_type": "code",
      "source": [
        "x_train.shape"
      ],
      "metadata": {
        "colab": {
          "base_uri": "https://localhost:8080/"
        },
        "id": "dqoiV4We0Ss3",
        "outputId": "4e0e9f99-621b-4a1f-b6d7-498973e285f4"
      },
      "id": "dqoiV4We0Ss3",
      "execution_count": 7,
      "outputs": [
        {
          "output_type": "execute_result",
          "data": {
            "text/plain": [
              "(10000, 32, 32, 3)"
            ]
          },
          "metadata": {},
          "execution_count": 7
        }
      ]
    },
    {
      "cell_type": "code",
      "source": [
        "y_train.shape"
      ],
      "metadata": {
        "colab": {
          "base_uri": "https://localhost:8080/"
        },
        "id": "tIAX86W10xAY",
        "outputId": "4ad851cf-7cb6-4e16-c539-577b56486bff"
      },
      "id": "tIAX86W10xAY",
      "execution_count": 8,
      "outputs": [
        {
          "output_type": "execute_result",
          "data": {
            "text/plain": [
              "(10000, 1)"
            ]
          },
          "metadata": {},
          "execution_count": 8
        }
      ]
    },
    {
      "cell_type": "code",
      "source": [
        "x_test.shape\n"
      ],
      "metadata": {
        "colab": {
          "base_uri": "https://localhost:8080/"
        },
        "id": "Mayq5OWR1ACl",
        "outputId": "771002d8-b315-48e1-a605-e74a5d7a94be"
      },
      "id": "Mayq5OWR1ACl",
      "execution_count": 9,
      "outputs": [
        {
          "output_type": "execute_result",
          "data": {
            "text/plain": [
              "(2000, 32, 32, 3)"
            ]
          },
          "metadata": {},
          "execution_count": 9
        }
      ]
    },
    {
      "cell_type": "code",
      "source": [
        "y_test.shape"
      ],
      "metadata": {
        "colab": {
          "base_uri": "https://localhost:8080/"
        },
        "id": "JKUlZDly1DXi",
        "outputId": "82200bca-1449-4a7f-f118-d9e3a2ce7bb5"
      },
      "id": "JKUlZDly1DXi",
      "execution_count": 10,
      "outputs": [
        {
          "output_type": "execute_result",
          "data": {
            "text/plain": [
              "(2000, 1)"
            ]
          },
          "metadata": {},
          "execution_count": 10
        }
      ]
    },
    {
      "cell_type": "code",
      "source": [
        "print(x_test.shape)\n",
        "print(x_train.shape)"
      ],
      "metadata": {
        "colab": {
          "base_uri": "https://localhost:8080/"
        },
        "id": "f1QZun_9m3YW",
        "outputId": "474f0cf5-71df-4776-a4d7-82778b67d94c"
      },
      "id": "f1QZun_9m3YW",
      "execution_count": 11,
      "outputs": [
        {
          "output_type": "stream",
          "name": "stdout",
          "text": [
            "(2000, 32, 32, 3)\n",
            "(10000, 32, 32, 3)\n"
          ]
        }
      ]
    },
    {
      "cell_type": "code",
      "execution_count": 12,
      "id": "abe28033",
      "metadata": {
        "id": "abe28033"
      },
      "outputs": [],
      "source": [
        "model = models.Sequential()\n",
        "model.add(layers.Conv2D(8, (3, 3), activation='elu', strides=(1,1),padding='same',input_shape=(32,32,3)))\n",
        "model.add(layers.Conv2D(8, (3, 3), activation='elu', strides=(1,1),padding='same'))\n",
        "model.add(layers.MaxPooling2D((2, 2)))\n",
        "\n",
        "model.add(layers.Conv2D(8, (3, 3), activation='elu', strides=(1,1),padding='same'))\n",
        "model.add(layers.Conv2D(8, (3, 3), strides=1 ,padding='same', activation='elu'))\n",
        "model.add(layers.MaxPooling2D((2, 2)))\n",
        "\n",
        "model.add(layers.Conv2D(8, (3, 3), activation='elu',padding='same', strides=(1,1)))\n",
        "model.add(layers.Conv2D(8, (3, 3), activation='elu',padding='same', strides=(1,1)))\n",
        "model.add(layers.Conv2D(8, (3, 3), activation='elu',padding='same', strides=(1,1)))\n",
        "model.add(layers.MaxPooling2D((2, 2)))\n",
        "\n",
        "\n",
        "model.add(layers.Conv2D(8, (3, 3), activation='elu',padding='same', strides=(1,1)))\n",
        "model.add(layers.Conv2D(8, (3, 3), activation='elu',padding='same', strides=(1,1)))\n",
        "model.add(layers.Conv2D(8, (3, 3), activation='elu',padding='same', strides=(1,1)))\n",
        "model.add(layers.MaxPooling2D((2, 2)))\n",
        "\n",
        "\n",
        "\n",
        "model.add(layers.Conv2D(8, (3, 3), activation='elu',padding='same', strides=(1,1)))\n",
        "model.add(layers.Conv2D(8, (3, 3), activation='elu',padding='same', strides=(1,1)))\n",
        "model.add(layers.Conv2D(8, (3, 3), activation='elu',padding='same', strides=(1,1)))\n",
        "model.add(layers.MaxPooling2D((2, 2)))\n"
      ]
    },
    {
      "cell_type": "code",
      "execution_count": 13,
      "id": "423535ea",
      "metadata": {
        "colab": {
          "base_uri": "https://localhost:8080/"
        },
        "id": "423535ea",
        "outputId": "bb332311-cd0e-4342-c853-e53304acde38"
      },
      "outputs": [
        {
          "output_type": "stream",
          "name": "stdout",
          "text": [
            "Model: \"sequential\"\n",
            "_________________________________________________________________\n",
            " Layer (type)                Output Shape              Param #   \n",
            "=================================================================\n",
            " conv2d (Conv2D)             (None, 32, 32, 8)         224       \n",
            "                                                                 \n",
            " conv2d_1 (Conv2D)           (None, 32, 32, 8)         584       \n",
            "                                                                 \n",
            " max_pooling2d (MaxPooling2D  (None, 16, 16, 8)        0         \n",
            " )                                                               \n",
            "                                                                 \n",
            " conv2d_2 (Conv2D)           (None, 16, 16, 8)         584       \n",
            "                                                                 \n",
            " conv2d_3 (Conv2D)           (None, 16, 16, 8)         584       \n",
            "                                                                 \n",
            " max_pooling2d_1 (MaxPooling  (None, 8, 8, 8)          0         \n",
            " 2D)                                                             \n",
            "                                                                 \n",
            " conv2d_4 (Conv2D)           (None, 8, 8, 8)           584       \n",
            "                                                                 \n",
            " conv2d_5 (Conv2D)           (None, 8, 8, 8)           584       \n",
            "                                                                 \n",
            " conv2d_6 (Conv2D)           (None, 8, 8, 8)           584       \n",
            "                                                                 \n",
            " max_pooling2d_2 (MaxPooling  (None, 4, 4, 8)          0         \n",
            " 2D)                                                             \n",
            "                                                                 \n",
            " conv2d_7 (Conv2D)           (None, 4, 4, 8)           584       \n",
            "                                                                 \n",
            " conv2d_8 (Conv2D)           (None, 4, 4, 8)           584       \n",
            "                                                                 \n",
            " conv2d_9 (Conv2D)           (None, 4, 4, 8)           584       \n",
            "                                                                 \n",
            " max_pooling2d_3 (MaxPooling  (None, 2, 2, 8)          0         \n",
            " 2D)                                                             \n",
            "                                                                 \n",
            " conv2d_10 (Conv2D)          (None, 2, 2, 8)           584       \n",
            "                                                                 \n",
            " conv2d_11 (Conv2D)          (None, 2, 2, 8)           584       \n",
            "                                                                 \n",
            " conv2d_12 (Conv2D)          (None, 2, 2, 8)           584       \n",
            "                                                                 \n",
            " max_pooling2d_4 (MaxPooling  (None, 1, 1, 8)          0         \n",
            " 2D)                                                             \n",
            "                                                                 \n",
            "=================================================================\n",
            "Total params: 7,232\n",
            "Trainable params: 7,232\n",
            "Non-trainable params: 0\n",
            "_________________________________________________________________\n"
          ]
        }
      ],
      "source": [
        "model.summary()\n"
      ]
    },
    {
      "cell_type": "code",
      "source": [
        "model.add(layers.Flatten())\n",
        "model.add(layers.Dense(256, activation='elu'))\n",
        "model.add(layers.Dense(128, activation='elu'))\n",
        "model.add(layers.Dense(64, activation='elu'))\n",
        "model.add(layers.Dense(2, activation='softmax'))"
      ],
      "metadata": {
        "id": "KBwkJo5boJb4"
      },
      "id": "KBwkJo5boJb4",
      "execution_count": 14,
      "outputs": []
    },
    {
      "cell_type": "code",
      "execution_count": 15,
      "id": "8a5e7fa6",
      "metadata": {
        "colab": {
          "base_uri": "https://localhost:8080/"
        },
        "id": "8a5e7fa6",
        "outputId": "d4ef46ce-3517-457f-e1ff-8b93a62a7342"
      },
      "outputs": [
        {
          "output_type": "stream",
          "name": "stdout",
          "text": [
            "Model: \"sequential\"\n",
            "_________________________________________________________________\n",
            " Layer (type)                Output Shape              Param #   \n",
            "=================================================================\n",
            " conv2d (Conv2D)             (None, 32, 32, 8)         224       \n",
            "                                                                 \n",
            " conv2d_1 (Conv2D)           (None, 32, 32, 8)         584       \n",
            "                                                                 \n",
            " max_pooling2d (MaxPooling2D  (None, 16, 16, 8)        0         \n",
            " )                                                               \n",
            "                                                                 \n",
            " conv2d_2 (Conv2D)           (None, 16, 16, 8)         584       \n",
            "                                                                 \n",
            " conv2d_3 (Conv2D)           (None, 16, 16, 8)         584       \n",
            "                                                                 \n",
            " max_pooling2d_1 (MaxPooling  (None, 8, 8, 8)          0         \n",
            " 2D)                                                             \n",
            "                                                                 \n",
            " conv2d_4 (Conv2D)           (None, 8, 8, 8)           584       \n",
            "                                                                 \n",
            " conv2d_5 (Conv2D)           (None, 8, 8, 8)           584       \n",
            "                                                                 \n",
            " conv2d_6 (Conv2D)           (None, 8, 8, 8)           584       \n",
            "                                                                 \n",
            " max_pooling2d_2 (MaxPooling  (None, 4, 4, 8)          0         \n",
            " 2D)                                                             \n",
            "                                                                 \n",
            " conv2d_7 (Conv2D)           (None, 4, 4, 8)           584       \n",
            "                                                                 \n",
            " conv2d_8 (Conv2D)           (None, 4, 4, 8)           584       \n",
            "                                                                 \n",
            " conv2d_9 (Conv2D)           (None, 4, 4, 8)           584       \n",
            "                                                                 \n",
            " max_pooling2d_3 (MaxPooling  (None, 2, 2, 8)          0         \n",
            " 2D)                                                             \n",
            "                                                                 \n",
            " conv2d_10 (Conv2D)          (None, 2, 2, 8)           584       \n",
            "                                                                 \n",
            " conv2d_11 (Conv2D)          (None, 2, 2, 8)           584       \n",
            "                                                                 \n",
            " conv2d_12 (Conv2D)          (None, 2, 2, 8)           584       \n",
            "                                                                 \n",
            " max_pooling2d_4 (MaxPooling  (None, 1, 1, 8)          0         \n",
            " 2D)                                                             \n",
            "                                                                 \n",
            " flatten (Flatten)           (None, 8)                 0         \n",
            "                                                                 \n",
            " dense (Dense)               (None, 256)               2304      \n",
            "                                                                 \n",
            " dense_1 (Dense)             (None, 128)               32896     \n",
            "                                                                 \n",
            " dense_2 (Dense)             (None, 64)                8256      \n",
            "                                                                 \n",
            " dense_3 (Dense)             (None, 2)                 130       \n",
            "                                                                 \n",
            "=================================================================\n",
            "Total params: 50,818\n",
            "Trainable params: 50,818\n",
            "Non-trainable params: 0\n",
            "_________________________________________________________________\n"
          ]
        }
      ],
      "source": [
        "model.summary()\n"
      ]
    },
    {
      "cell_type": "code",
      "execution_count": 16,
      "id": "9cd2034a",
      "metadata": {
        "colab": {
          "base_uri": "https://localhost:8080/"
        },
        "id": "9cd2034a",
        "outputId": "f95f04e6-27fb-4627-c7df-4b88d183dfd4"
      },
      "outputs": [
        {
          "output_type": "stream",
          "name": "stdout",
          "text": [
            "Epoch 1/5\n",
            "40/40 [==============================] - 17s 20ms/step - loss: 0.6830 - accuracy: 0.6275 - val_loss: 0.4637 - val_accuracy: 0.7890\n",
            "Epoch 2/5\n",
            "40/40 [==============================] - 0s 11ms/step - loss: 0.3978 - accuracy: 0.8258 - val_loss: 0.3192 - val_accuracy: 0.8645\n",
            "Epoch 3/5\n",
            "40/40 [==============================] - 0s 12ms/step - loss: 0.4171 - accuracy: 0.8233 - val_loss: 0.3583 - val_accuracy: 0.8560\n",
            "Epoch 4/5\n",
            "40/40 [==============================] - 0s 10ms/step - loss: 0.3472 - accuracy: 0.8503 - val_loss: 0.2691 - val_accuracy: 0.8885\n",
            "Epoch 5/5\n",
            "40/40 [==============================] - 0s 11ms/step - loss: 0.2856 - accuracy: 0.8836 - val_loss: 0.2589 - val_accuracy: 0.9040\n"
          ]
        }
      ],
      "source": [
        "model.compile(optimizer=optimizers.Adam(learning_rate=0.01),\n",
        "              loss=tf.keras.losses.SparseCategoricalCrossentropy(from_logits=False),\n",
        "              metrics=['accuracy'])#===========================================^ equal True\n",
        "\n",
        "history = model.fit(x_train, y_train, epochs=5, \n",
        "                    validation_data=(x_test, y_test),batch_size=250)"
      ]
    },
    {
      "cell_type": "code",
      "execution_count": 17,
      "id": "25a3e294",
      "metadata": {
        "id": "25a3e294",
        "colab": {
          "base_uri": "https://localhost:8080/",
          "height": 472
        },
        "outputId": "72df4db4-4ad3-483b-d2fd-f0d73f79668f"
      },
      "outputs": [
        {
          "output_type": "stream",
          "name": "stdout",
          "text": [
            "63/63 - 1s - loss: 0.2589 - accuracy: 0.9040 - 660ms/epoch - 10ms/step\n"
          ]
        },
        {
          "output_type": "display_data",
          "data": {
            "text/plain": [
              "<Figure size 640x480 with 1 Axes>"
            ],
            "image/png": "[encoded data removed]"
          },
          "metadata": {}
        }
      ],
      "source": [
        "plt.plot(history.history['accuracy'], label='accuracy')\n",
        "plt.plot(history.history['val_accuracy'], label = 'val_accuracy')\n",
        "plt.xlabel('Epoch')\n",
        "plt.ylabel('Accuracy')\n",
        "plt.ylim([0.5, 1])\n",
        "plt.legend(loc='lower right')\n",
        "test_loss, test_acc = model.evaluate(x_test,  y_test, verbose=2)"
      ]
    },
    {
      "cell_type": "code",
      "execution_count": 18,
      "id": "f60c7866",
      "metadata": {
        "id": "f60c7866",
        "colab": {
          "base_uri": "https://localhost:8080/"
        },
        "outputId": "feb89ef1-8e72-4f5c-904c-353bc60086cd"
      },
      "outputs": [
        {
          "output_type": "stream",
          "name": "stdout",
          "text": [
            "0.9039999842643738\n"
          ]
        }
      ],
      "source": [
        "print(test_acc)\n"
      ]
    },
    {
      "cell_type": "code",
      "source": [],
      "metadata": {
        "id": "BQKHH7TjsXaF"
      },
      "id": "BQKHH7TjsXaF",
      "execution_count": 18,
      "outputs": []
    }
  ],
  "metadata": {
    "kernelspec": {
      "display_name": "Python 3",
      "language": "python",
      "name": "python3"
    },
    "language_info": {
      "codemirror_mode": {
        "name": "ipython",
        "version": 3
      },
      "file_extension": ".py",
      "mimetype": "text/x-python",
      "name": "python",
      "nbconvert_exporter": "python",
      "pygments_lexer": "ipython3",
      "version": "3.8.8"
    },
    "colab": {
      "provenance": [],
      "gpuType": "T4"
    },
    "accelerator": "GPU",
    "gpuClass": "standard"
  },
  "nbformat": 4,
  "nbformat_minor": 5
}